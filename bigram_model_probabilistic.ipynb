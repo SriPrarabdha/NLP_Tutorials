{
 "cells": [
  {
   "cell_type": "code",
   "execution_count": null,
   "metadata": {},
   "outputs": [],
   "source": [
    "words = open('names.txt' , 'r').read().splitlines()\n",
    "words[:10]"
   ]
  },
  {
   "cell_type": "code",
   "execution_count": null,
   "metadata": {},
   "outputs": [],
   "source": [
    "# b = {}\n",
    "\n",
    "# for w in words :\n",
    "#     chs = ['<S>'] +list(w) + ['<E>']\n",
    "#     for ch1 , ch2 in zip(chs , chs[1:]) :\n",
    "#         bigram = (ch1 , ch2)\n",
    "#         b[bigram] = b.get(bigram , 0) + 1\n",
    "\n",
    "# b"
   ]
  },
  {
   "cell_type": "code",
   "execution_count": null,
   "metadata": {},
   "outputs": [],
   "source": [
    "import torch\n",
    "\n",
    "N = torch.zeros((27 , 27) , dtype=torch.int32)"
   ]
  },
  {
   "cell_type": "code",
   "execution_count": null,
   "metadata": {},
   "outputs": [],
   "source": [
    "chars = sorted(set(''.join(words)))\n",
    "stoi = {s:i+1 for i , s in enumerate(chars)}\n",
    "stoi['.'] = 0\n",
    "\n",
    "itos = {i:s for s , i in stoi.items()}"
   ]
  },
  {
   "cell_type": "code",
   "execution_count": null,
   "metadata": {},
   "outputs": [],
   "source": [
    "for w in words :\n",
    "    chs = ['.'] + list(w) + ['.']\n",
    "    for ch1 , ch2 in zip(chs , chs[1:]) :\n",
    "        idx1 = stoi[ch1]\n",
    "        idx2 = stoi[ch2]\n",
    "        N[idx1 , idx2] += 1\n",
    "\n",
    "N"
   ]
  },
  {
   "cell_type": "markdown",
   "metadata": {},
   "source": [
    "##Visualizing the above data"
   ]
  },
  {
   "cell_type": "code",
   "execution_count": null,
   "metadata": {},
   "outputs": [],
   "source": [
    "import matplotlib.pyplot as plt\n",
    "import numpy as np\n",
    "%matplotlib inline\n",
    "\n",
    "\n",
    "plt.imshow(N)"
   ]
  },
  {
   "cell_type": "code",
   "execution_count": null,
   "metadata": {},
   "outputs": [],
   "source": [
    "import matplotlib.pyplot as plt\n",
    "# import numpy as np\n",
    "# %matplotlib inline\n",
    "\n",
    "plt.figure(figsize=(16 , 16))\n",
    "plt.imshow(N , cmap='Blues')\n",
    "\n",
    "for i in range(27):\n",
    "    for j in range(27):\n",
    "        chars = itos[i] + itos[j]\n",
    "        plt.text(j , i , chars , va= 'bottom' , ha='center' , color='gray')\n",
    "        plt.text(j , i , N[i , j].item() , ha='center' , va='top' , color='gray')\n",
    "plt.axis('off')"
   ]
  },
  {
   "cell_type": "code",
   "execution_count": null,
   "metadata": {},
   "outputs": [],
   "source": [
    "g = torch.Generator().manual_seed(5)\n",
    "\n",
    "for i in range(50):\n",
    "\n",
    "    ix = 0\n",
    "    out= []\n",
    "\n",
    "    while True :\n",
    "        p = N[ix].float()\n",
    "        p = p / p.sum()\n",
    "\n",
    "        ix = torch.multinomial(p , num_samples=1 , replacement=True , generator=g).item()\n",
    "        out.append(itos[ix])\n",
    "\n",
    "        if (ix==0) :\n",
    "            break\n",
    "\n",
    "    print(''.join(out))"
   ]
  },
  {
   "cell_type": "code",
   "execution_count": null,
   "metadata": {},
   "outputs": [],
   "source": [
    "P = N.float()\n",
    "P /= P.sum(dim=1 , keepdim=True)"
   ]
  },
  {
   "cell_type": "code",
   "execution_count": null,
   "metadata": {},
   "outputs": [],
   "source": [
    "log_likelihood = 0\n",
    "n = 0\n",
    "\n",
    "for w in words:\n",
    "    ch = ['.'] + list(w) + ['.']\n",
    "    for  c1 , c2 in zip(ch , ch[1:]) :\n",
    "        i1 = stoi[c1]\n",
    "        i2 = stoi[c2]\n",
    "        prob = P[i1 , i2]\n",
    "        logprob = torch.log(prob)\n",
    "        log_likelihood += logprob\n",
    "        n+=1\n",
    "\n",
    "        print(f'{c1} , {c2} : {prob:.4f}  {logprob:.4f}')\n",
    "\n",
    "print(log_likelihood)\n",
    "nll = -log_likelihood\n",
    "print(nll)\n",
    "print(nll/n)"
   ]
  }
 ],
 "metadata": {
  "kernelspec": {
   "display_name": "Python 3.10.2 64-bit",
   "language": "python",
   "name": "python3"
  },
  "language_info": {
   "codemirror_mode": {
    "name": "ipython",
    "version": 3
   },
   "file_extension": ".py",
   "mimetype": "text/x-python",
   "name": "python",
   "nbconvert_exporter": "python",
   "pygments_lexer": "ipython3",
   "version": "3.10.2"
  },
  "orig_nbformat": 4,
  "vscode": {
   "interpreter": {
    "hash": "369f2c481f4da34e4445cda3fffd2e751bd1c4d706f27375911949ba6bb62e1c"
   }
  }
 },
 "nbformat": 4,
 "nbformat_minor": 2
}
